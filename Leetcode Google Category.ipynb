{
 "cells": [
  {
   "cell_type": "markdown",
   "metadata": {},
   "source": [
    "# Hard Problem Session"
   ]
  },
  {
   "cell_type": "markdown",
   "metadata": {},
   "source": [
    "## 975. Odd Even Jump\n",
    "You are given an integer array A.  From some starting index, you can make a series of jumps.  The (1st, 3rd, 5th, ...) jumps in the series are called odd numbered jumps, and the (2nd, 4th, 6th, ...) jumps in the series are called even numbered jumps.\n",
    "\n",
    "You may from index i jump forward to index j (with i < j) in the following way:\n",
    "\n",
    "During odd numbered jumps (ie. jumps 1, 3, 5, ...), you jump to the index j such that A[i] <= A[j] and A[j] is the smallest possible value.  If there are multiple such indexes j, you can only jump to the smallest such index j.\n",
    "During even numbered jumps (ie. jumps 2, 4, 6, ...), you jump to the index j such that A[i] >= A[j] and A[j] is the largest possible value.  If there are multiple such indexes j, you can only jump to the smallest such index j.\n",
    "(It may be the case that for some index i, there are no legal jumps.)\n",
    "A starting index is good if, starting from that index, you can reach the end of the array (index A.length - 1) by jumping some number of times (possibly 0 or more than once.)\n",
    "\n",
    "Return the number of good starting indexes.\n",
    "\n",
    " \n",
    "\n",
    "Example 1:\n",
    "\n",
    "Input: [10,13,12,14,15]\n",
    "Output: 2\n",
    "Explanation: \n",
    "From starting index i = 0, we can jump to i = 2 (since A[2] is the smallest among A[1], A[2], A[3], A[4] that is greater or equal to A[0]), then we can't jump any more.\n",
    "From starting index i = 1 and i = 2, we can jump to i = 3, then we can't jump any more.\n",
    "From starting index i = 3, we can jump to i = 4, so we've reached the end.\n",
    "From starting index i = 4, we've reached the end already.\n",
    "In total, there are 2 different starting indexes (i = 3, i = 4) where we can reach the end with some number of jumps.\n",
    "Example 2:\n",
    "\n",
    "Input: [2,3,1,1,4]\n",
    "Output: 3\n",
    "Explanation: \n",
    "From starting index i = 0, we make jumps to i = 1, i = 2, i = 3:\n",
    "\n",
    "During our 1st jump (odd numbered), we first jump to i = 1 because A[1] is the smallest value in (A[1], A[2], A[3], A[4]) that is greater than or equal to A[0].\n",
    "\n",
    "During our 2nd jump (even numbered), we jump from i = 1 to i = 2 because A[2] is the largest value in (A[2], A[3], A[4]) that is less than or equal to A[1].  A[3] is also the largest value, but 2 is a smaller index, so we can only jump to i = 2 and not i = 3.\n",
    "\n",
    "During our 3rd jump (odd numbered), we jump from i = 2 to i = 3 because A[3] is the smallest value in (A[3], A[4]) that is greater than or equal to A[2].\n",
    "\n",
    "We can't jump from i = 3 to i = 4, so the starting index i = 0 is not good.\n",
    "\n",
    "In a similar manner, we can deduce that:\n",
    "From starting index i = 1, we jump to i = 4, so we reach the end.\n",
    "From starting index i = 2, we jump to i = 3, and then we can't jump anymore.\n",
    "From starting index i = 3, we jump to i = 4, so we reach the end.\n",
    "From starting index i = 4, we are already at the end.\n",
    "In total, there are 3 different starting indexes (i = 1, i = 3, i = 4) where we can reach the end with some number of jumps.\n",
    "Example 3:\n",
    "\n",
    "Input: [5,1,3,4,2]\n",
    "Output: 3\n",
    "Explanation: \n",
    "We can reach the end from starting indexes 1, 2, and 4."
   ]
  },
  {
   "cell_type": "markdown",
   "metadata": {},
   "source": [
    "### Note:\n",
    "1. 1 <= A.length <= 20000\n",
    "2. 0 <= A[i] < 100000"
   ]
  },
  {
   "cell_type": "code",
   "execution_count": 272,
   "metadata": {},
   "outputs": [],
   "source": [
    "# Brute Force Submmision: doesnt pass\n",
    "def oddEvenJumps(A) -> int:\n",
    "    # tuple that is sorted BCT: Nlogn USE SORTED would do betta\n",
    "    stores = [(elem,index) for index, elem in enumerate(A)]\n",
    "    cnt = 1\n",
    "    for i in range(len(A)-1):\n",
    "        # iterate through rest\n",
    "        finished = False\n",
    "        time = 1\n",
    "        temp = i\n",
    "        while not finished:\n",
    "            if time % 2 == 0: # A[j] <= A[i], A[j] largest \n",
    "                minimum = findMin(A,A[temp],temp+1,len(A))\n",
    "                if minimum == len(A) - 1:\n",
    "                    finished = True\n",
    "                    break\n",
    "                if minimum == -1:\n",
    "                    break\n",
    "                temp = minimum\n",
    "                time += 1\n",
    "            else: # A[j] >= A[i], A[j] smallest \n",
    "                maximum = findMax(A,A[temp],temp+1,len(A))\n",
    "                if maximum == len(A) - 1:\n",
    "                    finished = True\n",
    "                    print(A[i],A[maximum])\n",
    "                    break\n",
    "                if maximum == -1:\n",
    "                    break\n",
    "                temp = maximum\n",
    "                time += 1\n",
    "        if finished:\n",
    "            cnt += 1\n",
    "    return cnt\n",
    "def findMin(arr,tar,start,end):\n",
    "    res = -1\n",
    "    for i in range(start,end):\n",
    "        if arr[i] <= tar:\n",
    "            if (res == -1) or (res != -1 and arr[i] > arr[res]):\n",
    "                res = i\n",
    "    return res\n",
    "def findMax(arr,tar,start,end):\n",
    "    res = -1\n",
    "    for i in range(start,end):\n",
    "        if arr[i] >= tar:\n",
    "            if (res == -1) or (res != -1 and arr[i] < arr[res]):\n",
    "                res = i\n",
    "    return res"
   ]
  },
  {
   "cell_type": "code",
   "execution_count": 250,
   "metadata": {},
   "outputs": [
    {
     "data": {
      "text/plain": [
       "2"
      ]
     },
     "execution_count": 250,
     "metadata": {},
     "output_type": "execute_result"
    }
   ],
   "source": [
    "oddEvenJumps([1,1,1,1,1])"
   ]
  },
  {
   "cell_type": "markdown",
   "metadata": {},
   "source": [
    "## Tips:\n",
    "1. Common Trick: monotonic stack\n",
    "```\n",
    "Let's store the indices i of the processed values v0 = A[i] in a stack, and maintain the invariant that this is monotone decreasing. When we add a new index j, we pop all the smaller indices i < j from the stack, which all jump to j\n",
    "```\n",
    "\n",
    "    Code:\n",
    "```\n",
    "    def get_answer(A):\n",
    "        answers = [None] * len(A)\n",
    "        mono_stack = []\n",
    "        for index in A:\n",
    "            while mono_stack and mono_stack[-1] < index:\n",
    "                answers[mono_stack.pop()] = index\n",
    "            mono_stack.append(index)\n",
    "        return answers\n",
    "```\n",
    "2. Backward DP\n",
    "```\n",
    "    for i in range(answer_size-2,-1,-1):\n",
    "        if even_successor[i] is not None:\n",
    "            even[i] = odd[even_successor[i]]\n",
    "        if odd_successor[i] is not None:\n",
    "            odd[i] = even[odd_successor[i]]\n",
    "```\n",
    "3. Sort index by value without adding value\n",
    "```\n",
    "sorted(range(answer_size),key=lambda x: A[x])\n",
    "```"
   ]
  },
  {
   "cell_type": "code",
   "execution_count": 287,
   "metadata": {},
   "outputs": [],
   "source": [
    "# oddEvenJumps with trick Nlogn\n",
    "def oddEvenJumps(A) -> int:\n",
    "    def get_answer(A):\n",
    "        answers = [None] * len(A)\n",
    "        mono_stack = []\n",
    "        for index in A:\n",
    "            while mono_stack and mono_stack[-1] < index:\n",
    "                answers[mono_stack.pop()] = index\n",
    "            mono_stack.append(index)\n",
    "        return answers\n",
    "    answer_size = len(A)\n",
    "    list_indexes = sorted(range(answer_size),key=lambda x: A[x])\n",
    "    odd_successor = get_answer(list_indexes)\n",
    "    list_indexes.sort(key=lambda x: -A[x])\n",
    "    even_successor = get_answer(list_indexes)\n",
    "    # Now use Dynamic Programming to solve by going backward.\n",
    "    even = [0]*answer_size\n",
    "    odd = [0]*answer_size\n",
    "    even[-1] = odd[-1] = 1\n",
    "    for i in range(answer_size-2,-1,-1):\n",
    "        if even_successor[i] is not None:\n",
    "            even[i] = odd[even_successor[i]]\n",
    "        if odd_successor[i] is not None:\n",
    "            odd[i] = even[odd_successor[i]]\n",
    "    print(odd,even)\n",
    "    return sum(odd)"
   ]
  },
  {
   "cell_type": "code",
   "execution_count": 288,
   "metadata": {},
   "outputs": [
    {
     "name": "stdout",
     "output_type": "stream",
     "text": [
      "[0, 1] [1, 1]\n"
     ]
    },
    {
     "data": {
      "text/plain": [
       "1"
      ]
     },
     "execution_count": 288,
     "metadata": {},
     "output_type": "execute_result"
    }
   ],
   "source": [
    "oddEvenJumps([7,6])"
   ]
  },
  {
   "cell_type": "markdown",
   "metadata": {},
   "source": [
    "## Article Screenshot"
   ]
  },
  {
   "cell_type": "markdown",
   "metadata": {},
   "source": [
    "<img style=\"float: left;\" src=\"sol1.png\">\n",
    "<img style=\"float: left;\" src=\"sol2.png\">\n",
    "<img style=\"float: left;\" src=\"sol3.png\">"
   ]
  },
  {
   "cell_type": "markdown",
   "metadata": {},
   "source": [
    "# Medium Problem Session"
   ]
  },
  {
   "cell_type": "markdown",
   "metadata": {},
   "source": [
    "## 904. Fruit Into Baskets\n",
    "In a row of trees, the i-th tree produces fruit with type tree[i].\n",
    "\n",
    "You start at any tree of your choice, then repeatedly perform the following steps:\n",
    "\n",
    "Add one piece of fruit from this tree to your baskets.  If you cannot, stop.\n",
    "Move to the next tree to the right of the current tree.  If there is no tree to the right, stop.\n",
    "Note that you do not have any choice after the initial choice of starting tree: you must perform step 1, then step 2, then back to step 1, then step 2, and so on until you stop.\n",
    "\n",
    "You have two baskets, and each basket can carry any quantity of fruit, but you want each basket to only carry one type of fruit each.\n",
    "\n",
    "What is the total amount of fruit you can collect with this procedure?"
   ]
  },
  {
   "cell_type": "code",
   "execution_count": 295,
   "metadata": {},
   "outputs": [],
   "source": [
    "# Accepted Solution Beats 66.48%\n",
    "class Solution:\n",
    "    def totalFruit(self, tree) -> int:\n",
    "        from collections import deque\n",
    "        curr_max = global_max = 0\n",
    "        capacity = 2\n",
    "        count = dict()\n",
    "        visited = deque([])\n",
    "        for i in range(len(tree)):\n",
    "            if tree[i] not in visited:\n",
    "                if capacity > 0:\n",
    "                    capacity -= 1\n",
    "                else:\n",
    "                    visited.popleft()\n",
    "                    curr_max = count[visited[-1]]\n",
    "                count[tree[i]] = 1\n",
    "                visited.append(tree[i])\n",
    "            else:\n",
    "                if visited[-1] != tree[i]:\n",
    "                    count[visited.popleft()] = 0\n",
    "                    visited.append(tree[i])\n",
    "                count[tree[i]] += 1\n",
    "            curr_max += 1\n",
    "            global_max = max(curr_max,global_max)\n",
    "        return global_max"
   ]
  },
  {
   "cell_type": "code",
   "execution_count": 312,
   "metadata": {},
   "outputs": [],
   "source": [
    "class Solution:\n",
    "    def totalFruit(self, tree) -> int:\n",
    "        from collections import Counter\n",
    "        left, counter, res = 0, Counter(), 0\n",
    "        for right in range(len(tree)):\n",
    "            counter[tree[right]] += 1\n",
    "            while len(counter) > 2:\n",
    "                counter[tree[left]] -= 1\n",
    "                if not counter[tree[left]]:\n",
    "                    counter.pop(tree[left])\n",
    "                left += 1       \n",
    "            res = max(res,right-left+1)\n",
    "        return res"
   ]
  },
  {
   "cell_type": "markdown",
   "metadata": {},
   "source": [
    "## 48. Rotate Image\n",
    "You are given an n x n 2D matrix representing an image.\n",
    "\n",
    "Rotate the image by 90 degrees (clockwise).\n",
    "\n",
    "Note:\n",
    "\n",
    "You have to rotate the image in-place, which means you have to modify the input 2D matrix directly. DO NOT allocate another 2D matrix and do the rotation.\n",
    "\n",
    "Example 1:\n",
    "\n",
    "Given input matrix = \n",
    "[\n",
    "  [1,2,3],\n",
    "  [4,5,6],\n",
    "  [7,8,9]\n",
    "],\n",
    "\n",
    "rotate the input matrix in-place such that it becomes:\n",
    "[\n",
    "  [7,4,1],\n",
    "  [8,5,2],\n",
    "  [9,6,3]\n",
    "]\n",
    "\n",
    "Example 2:\n",
    "\n",
    "Given input matrix =\n",
    "[\n",
    "  [ 5, 1, 9,11],\n",
    "  [ 2, 4, 8,10],\n",
    "  [13, 3, 6, 7],\n",
    "  [15,14,12,16]\n",
    "], \n",
    "\n",
    "rotate the input matrix in-place such that it becomes:\n",
    "[\n",
    "  [15,13, 2, 5],\n",
    "  [14, 3, 4, 1],\n",
    "  [12, 6, 8, 9],\n",
    "  [16, 7,10,11]\n",
    "]"
   ]
  },
  {
   "cell_type": "code",
   "execution_count": 291,
   "metadata": {},
   "outputs": [],
   "source": [
    "class Solution:\n",
    "    def rotate(self, matrix) -> None:\n",
    "        \"\"\"\n",
    "        Do not return anything, modify matrix in-place instead.\n",
    "        \"\"\"\n",
    "        # O(N^2)\n",
    "        for i in range(len(matrix)//2):\n",
    "            for j in range(i,len(matrix)-1-i):\n",
    "                top = matrix[i][j]\n",
    "                matrix[i][j] = matrix[len(matrix)-1-j][i] # top -> left\n",
    "                matrix[len(matrix)-1-j][i] = matrix[len(matrix)-1-i][len(matrix)-1-j] #left -> bottom\n",
    "                matrix[len(matrix)-1-i][len(matrix)-1-j] = matrix[j][len(matrix)-1-i] #bottom -> right\n",
    "                matrix[j][len(matrix)-1-i] = top #right -> top"
   ]
  },
  {
   "cell_type": "code",
   "execution_count": null,
   "metadata": {},
   "outputs": [],
   "source": []
  }
 ],
 "metadata": {
  "kernelspec": {
   "display_name": "Python 3",
   "language": "python",
   "name": "python3"
  },
  "language_info": {
   "codemirror_mode": {
    "name": "ipython",
    "version": 3
   },
   "file_extension": ".py",
   "mimetype": "text/x-python",
   "name": "python",
   "nbconvert_exporter": "python",
   "pygments_lexer": "ipython3",
   "version": "3.7.0"
  }
 },
 "nbformat": 4,
 "nbformat_minor": 2
}
