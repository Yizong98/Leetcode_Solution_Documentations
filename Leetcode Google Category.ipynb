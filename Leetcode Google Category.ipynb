{
 "cells": [
  {
   "cell_type": "markdown",
   "metadata": {},
   "source": [
    "# Hard Problem Session"
   ]
  },
  {
   "cell_type": "markdown",
   "metadata": {},
   "source": [
    "## 975. Odd Even Jump\n",
    "You are given an integer array A.  From some starting index, you can make a series of jumps.  The (1st, 3rd, 5th, ...) jumps in the series are called odd numbered jumps, and the (2nd, 4th, 6th, ...) jumps in the series are called even numbered jumps.\n",
    "\n",
    "You may from index i jump forward to index j (with i < j) in the following way:\n",
    "\n",
    "During odd numbered jumps (ie. jumps 1, 3, 5, ...), you jump to the index j such that A[i] <= A[j] and A[j] is the smallest possible value.  If there are multiple such indexes j, you can only jump to the smallest such index j.\n",
    "During even numbered jumps (ie. jumps 2, 4, 6, ...), you jump to the index j such that A[i] >= A[j] and A[j] is the largest possible value.  If there are multiple such indexes j, you can only jump to the smallest such index j.\n",
    "(It may be the case that for some index i, there are no legal jumps.)\n",
    "A starting index is good if, starting from that index, you can reach the end of the array (index A.length - 1) by jumping some number of times (possibly 0 or more than once.)\n",
    "\n",
    "Return the number of good starting indexes.\n",
    "\n",
    " \n",
    "\n",
    "Example 1:\n",
    "\n",
    "Input: [10,13,12,14,15]\n",
    "Output: 2\n",
    "Explanation: \n",
    "From starting index i = 0, we can jump to i = 2 (since A[2] is the smallest among A[1], A[2], A[3], A[4] that is greater or equal to A[0]), then we can't jump any more.\n",
    "From starting index i = 1 and i = 2, we can jump to i = 3, then we can't jump any more.\n",
    "From starting index i = 3, we can jump to i = 4, so we've reached the end.\n",
    "From starting index i = 4, we've reached the end already.\n",
    "In total, there are 2 different starting indexes (i = 3, i = 4) where we can reach the end with some number of jumps.\n",
    "Example 2:\n",
    "\n",
    "Input: [2,3,1,1,4]\n",
    "Output: 3\n",
    "Explanation: \n",
    "From starting index i = 0, we make jumps to i = 1, i = 2, i = 3:\n",
    "\n",
    "During our 1st jump (odd numbered), we first jump to i = 1 because A[1] is the smallest value in (A[1], A[2], A[3], A[4]) that is greater than or equal to A[0].\n",
    "\n",
    "During our 2nd jump (even numbered), we jump from i = 1 to i = 2 because A[2] is the largest value in (A[2], A[3], A[4]) that is less than or equal to A[1].  A[3] is also the largest value, but 2 is a smaller index, so we can only jump to i = 2 and not i = 3.\n",
    "\n",
    "During our 3rd jump (odd numbered), we jump from i = 2 to i = 3 because A[3] is the smallest value in (A[3], A[4]) that is greater than or equal to A[2].\n",
    "\n",
    "We can't jump from i = 3 to i = 4, so the starting index i = 0 is not good.\n",
    "\n",
    "In a similar manner, we can deduce that:\n",
    "From starting index i = 1, we jump to i = 4, so we reach the end.\n",
    "From starting index i = 2, we jump to i = 3, and then we can't jump anymore.\n",
    "From starting index i = 3, we jump to i = 4, so we reach the end.\n",
    "From starting index i = 4, we are already at the end.\n",
    "In total, there are 3 different starting indexes (i = 1, i = 3, i = 4) where we can reach the end with some number of jumps.\n",
    "Example 3:\n",
    "\n",
    "Input: [5,1,3,4,2]\n",
    "Output: 3\n",
    "Explanation: \n",
    "We can reach the end from starting indexes 1, 2, and 4."
   ]
  },
  {
   "cell_type": "markdown",
   "metadata": {},
   "source": [
    "### Note:\n",
    "1. 1 <= A.length <= 20000\n",
    "2. 0 <= A[i] < 100000"
   ]
  },
  {
   "cell_type": "code",
   "execution_count": 272,
   "metadata": {},
   "outputs": [],
   "source": [
    "# Brute Force Submmision: doesnt pass\n",
    "def oddEvenJumps(A) -> int:\n",
    "    # tuple that is sorted BCT: Nlogn USE SORTED would do betta\n",
    "    stores = [(elem,index) for index, elem in enumerate(A)]\n",
    "    cnt = 1\n",
    "    for i in range(len(A)-1):\n",
    "        # iterate through rest\n",
    "        finished = False\n",
    "        time = 1\n",
    "        temp = i\n",
    "        while not finished:\n",
    "            if time % 2 == 0: # A[j] <= A[i], A[j] largest \n",
    "                minimum = findMin(A,A[temp],temp+1,len(A))\n",
    "                if minimum == len(A) - 1:\n",
    "                    finished = True\n",
    "                    break\n",
    "                if minimum == -1:\n",
    "                    break\n",
    "                temp = minimum\n",
    "                time += 1\n",
    "            else: # A[j] >= A[i], A[j] smallest \n",
    "                maximum = findMax(A,A[temp],temp+1,len(A))\n",
    "                if maximum == len(A) - 1:\n",
    "                    finished = True\n",
    "                    print(A[i],A[maximum])\n",
    "                    break\n",
    "                if maximum == -1:\n",
    "                    break\n",
    "                temp = maximum\n",
    "                time += 1\n",
    "        if finished:\n",
    "            cnt += 1\n",
    "    return cnt\n",
    "def findMin(arr,tar,start,end):\n",
    "    res = -1\n",
    "    for i in range(start,end):\n",
    "        if arr[i] <= tar:\n",
    "            if (res == -1) or (res != -1 and arr[i] > arr[res]):\n",
    "                res = i\n",
    "    return res\n",
    "def findMax(arr,tar,start,end):\n",
    "    res = -1\n",
    "    for i in range(start,end):\n",
    "        if arr[i] >= tar:\n",
    "            if (res == -1) or (res != -1 and arr[i] < arr[res]):\n",
    "                res = i\n",
    "    return res"
   ]
  },
  {
   "cell_type": "code",
   "execution_count": 250,
   "metadata": {},
   "outputs": [
    {
     "data": {
      "text/plain": [
       "2"
      ]
     },
     "execution_count": 250,
     "metadata": {},
     "output_type": "execute_result"
    }
   ],
   "source": [
    "oddEvenJumps([1,1,1,1,1])"
   ]
  },
  {
   "cell_type": "markdown",
   "metadata": {},
   "source": [
    "## Tips:\n",
    "1. Common Trick: monotonic stack\n",
    "```\n",
    "Let's store the indices i of the processed values v0 = A[i] in a stack, and maintain the invariant that this is monotone decreasing. When we add a new index j, we pop all the smaller indices i < j from the stack, which all jump to j\n",
    "```\n",
    "\n",
    "    Code:\n",
    "```\n",
    "    def get_answer(A):\n",
    "        answers = [None] * len(A)\n",
    "        mono_stack = []\n",
    "        for index in A:\n",
    "            while mono_stack and mono_stack[-1] < index:\n",
    "                answers[mono_stack.pop()] = index\n",
    "            mono_stack.append(index)\n",
    "        return answers\n",
    "```\n",
    "2. Backward DP\n",
    "```\n",
    "    for i in range(answer_size-2,-1,-1):\n",
    "        if even_successor[i] is not None:\n",
    "            even[i] = odd[even_successor[i]]\n",
    "        if odd_successor[i] is not None:\n",
    "            odd[i] = even[odd_successor[i]]\n",
    "```"
   ]
  },
  {
   "cell_type": "code",
   "execution_count": 287,
   "metadata": {},
   "outputs": [],
   "source": [
    "# oddEvenJumps with trick Nlogn\n",
    "def oddEvenJumps(A) -> int:\n",
    "    def get_answer(A):\n",
    "        answers = [None] * len(A)\n",
    "        mono_stack = []\n",
    "        for index in A:\n",
    "            while mono_stack and mono_stack[-1] < index:\n",
    "                answers[mono_stack.pop()] = index\n",
    "            mono_stack.append(index)\n",
    "        return answers\n",
    "    answer_size = len(A)\n",
    "    list_indexes = sorted(range(answer_size),key=lambda x: A[x])\n",
    "    odd_successor = get_answer(list_indexes)\n",
    "    list_indexes.sort(key=lambda x: -A[x])\n",
    "    even_successor = get_answer(list_indexes)\n",
    "    # Now use Dynamic Programming to solve by going backward.\n",
    "    even = [0]*answer_size\n",
    "    odd = [0]*answer_size\n",
    "    even[-1] = odd[-1] = 1\n",
    "    for i in range(answer_size-2,-1,-1):\n",
    "        if even_successor[i] is not None:\n",
    "            even[i] = odd[even_successor[i]]\n",
    "        if odd_successor[i] is not None:\n",
    "            odd[i] = even[odd_successor[i]]\n",
    "    print(odd,even)\n",
    "    return sum(odd)"
   ]
  },
  {
   "cell_type": "code",
   "execution_count": 288,
   "metadata": {},
   "outputs": [
    {
     "name": "stdout",
     "output_type": "stream",
     "text": [
      "[0, 1] [1, 1]\n"
     ]
    },
    {
     "data": {
      "text/plain": [
       "1"
      ]
     },
     "execution_count": 288,
     "metadata": {},
     "output_type": "execute_result"
    }
   ],
   "source": [
    "oddEvenJumps([7,6])"
   ]
  },
  {
   "cell_type": "markdown",
   "metadata": {},
   "source": [
    "## Article Screenshot"
   ]
  },
  {
   "cell_type": "markdown",
   "metadata": {},
   "source": [
    "<img style=\"float: left;\" src=\"sol1.png\">\n",
    "<img style=\"float: left;\" src=\"sol2.png\">\n",
    "<img style=\"float: left;\" src=\"sol3.png\">"
   ]
  },
  {
   "cell_type": "code",
   "execution_count": null,
   "metadata": {},
   "outputs": [],
   "source": []
  }
 ],
 "metadata": {
  "kernelspec": {
   "display_name": "Python 3",
   "language": "python",
   "name": "python3"
  },
  "language_info": {
   "codemirror_mode": {
    "name": "ipython",
    "version": 3
   },
   "file_extension": ".py",
   "mimetype": "text/x-python",
   "name": "python",
   "nbconvert_exporter": "python",
   "pygments_lexer": "ipython3",
   "version": "3.7.0"
  }
 },
 "nbformat": 4,
 "nbformat_minor": 2
}
