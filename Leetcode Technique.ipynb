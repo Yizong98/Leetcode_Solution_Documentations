{
 "cells": [
  {
   "cell_type": "markdown",
   "metadata": {},
   "source": [
    "## General Techniques:"
   ]
  },
  {
   "cell_type": "markdown",
   "metadata": {},
   "source": [
    "1. It is always better to take 15 ish minutes to think and write on a paper or whiteboard before actual coding."
   ]
  },
  {
   "cell_type": "markdown",
   "metadata": {},
   "source": [
    "## Techniques by topic"
   ]
  },
  {
   "cell_type": "markdown",
   "metadata": {},
   "source": [
    "### Topic1: Matrix"
   ]
  },
  {
   "cell_type": "markdown",
   "metadata": {},
   "source": [
    "#### Matrix Operation:"
   ]
  },
  {
   "cell_type": "markdown",
   "metadata": {},
   "source": [
    "1. Check Diagonal: (x1,y1), (x2,y2) ==> abs(x1-x2) == abs(y1-y2)\n",
    "2. Matrix Rotation: Save Top, Top -> left, left -> bottom, bottom -> right, right -> top.\n",
    "3. Consider offset and always draw a picture when doing matrix inplace operations.\n",
    "4. Get four edges by rotation:\n",
    "\n",
    "```\n",
    "# store 4 elements in tmp\n",
    "for k in range(4):\n",
    "    tmp[k] = matrix[row][col]\n",
    "    row, col = col, n - 1 - row\n",
    "```\n",
    "5. Fill values by rotation:\n",
    "```\n",
    "# rotate 4 elements   \n",
    "for k in range(4):\n",
    "    matrix[row][col] = tmp[(k - 1) % 4]\n",
    "    row, col = col, n - 1 - row\n",
    "```"
   ]
  },
  {
   "cell_type": "markdown",
   "metadata": {},
   "source": [
    "### Tricky Problems\n",
    "#### Matrix Rotation:"
   ]
  },
  {
   "cell_type": "markdown",
   "metadata": {},
   "source": [
    "#### Approach 1 : Transpose and then reverse"
   ]
  },
  {
   "cell_type": "code",
   "execution_count": 1,
   "metadata": {},
   "outputs": [],
   "source": [
    "class Solution:\n",
    "    def rotate(self, matrix):\n",
    "        \"\"\"\n",
    "        :type matrix: List[List[int]]\n",
    "        :rtype: void Do not return anything, modify matrix in-place instead.\n",
    "        \"\"\"\n",
    "        n = len(matrix[0])        \n",
    "        # transpose matrix\n",
    "        for i in range(n):\n",
    "            for j in range(i, n):\n",
    "                matrix[j][i], matrix[i][j] = matrix[i][j], matrix[j][i] \n",
    "        \n",
    "        # reverse each row\n",
    "        for i in range(n):\n",
    "            matrix[i].reverse()"
   ]
  },
  {
   "cell_type": "markdown",
   "metadata": {},
   "source": [
    "#### Approach 2:  One Pass inplace rotation"
   ]
  },
  {
   "cell_type": "code",
   "execution_count": 4,
   "metadata": {},
   "outputs": [],
   "source": [
    "#Version1\n",
    "class Solution:\n",
    "    def rotate(self, matrix):\n",
    "        \"\"\"\n",
    "        :type matrix: List[List[int]]\n",
    "        :rtype: void Do not return anything, modify matrix in-place instead.\n",
    "        \"\"\"\n",
    "        n = len(matrix[0])\n",
    "        for i in range(n // 2 + n % 2):\n",
    "            for j in range(n // 2):\n",
    "                tmp = [0] * 4\n",
    "                row, col = i, j\n",
    "                # store 4 elements in tmp\n",
    "                for k in range(4):\n",
    "                    tmp[k] = matrix[row][col]\n",
    "                    row, col = col, n - 1 - row\n",
    "                # rotate 4 elements   \n",
    "                for k in range(4):\n",
    "                    matrix[row][col] = tmp[(k - 1) % 4]\n",
    "                    row, col = col, n - 1 - row"
   ]
  },
  {
   "cell_type": "code",
   "execution_count": 3,
   "metadata": {},
   "outputs": [],
   "source": [
    "#Version2\n",
    "class Solution:\n",
    "    def rotate(self, matrix) -> None:\n",
    "        \"\"\"\n",
    "        Do not return anything, modify matrix in-place instead.\n",
    "        \"\"\"\n",
    "        # O(N^2)\n",
    "        for i in range(len(matrix)//2):\n",
    "            for j in range(i,len(matrix)-1-i):\n",
    "                top = matrix[i][j]\n",
    "                matrix[i][j] = matrix[len(matrix)-1-j][i] # top -> left\n",
    "                matrix[len(matrix)-1-j][i] = matrix[len(matrix)-1-i][len(matrix)-1-j] #left -> bottom\n",
    "                matrix[len(matrix)-1-i][len(matrix)-1-j] = matrix[j][len(matrix)-1-i] #bottom -> right\n",
    "                matrix[j][len(matrix)-1-i] = top #right -> top"
   ]
  },
  {
   "cell_type": "markdown",
   "metadata": {},
   "source": [
    "### Topic2: Array\n",
    "1. Very IMPORTANT technique: sliding window:\n",
    "Basic Structure:\n",
    "```\n",
    "    Counter\n",
    "    For loop: \n",
    "        while loop:\n",
    "           iterating index\n",
    "```"
   ]
  },
  {
   "cell_type": "markdown",
   "metadata": {},
   "source": [
    "### Example: max 2 types of element picked in the current sliding window. And you will pick any element in specified index just once.\n",
    "\n",
    "### Solution"
   ]
  },
  {
   "cell_type": "code",
   "execution_count": 5,
   "metadata": {},
   "outputs": [],
   "source": [
    "class Solution:\n",
    "    def totalFruit(self, tree) -> int:\n",
    "        from collections import Counter\n",
    "        left, counter, res = 0, Counter(), 0\n",
    "        for right in range(len(tree)):\n",
    "            counter[tree[right]] += 1\n",
    "            while len(counter) > 2:\n",
    "                counter[tree[left]] -= 1\n",
    "                if not counter[tree[left]]:\n",
    "                    counter.pop(tree[left])\n",
    "                left += 1       \n",
    "            res = max(res,right-left+1)\n",
    "        return res"
   ]
  },
  {
   "cell_type": "markdown",
   "metadata": {},
   "source": [
    "## Technique of Pythons"
   ]
  },
  {
   "cell_type": "markdown",
   "metadata": {},
   "source": [
    "1. collections.Counter() is super helpful"
   ]
  },
  {
   "cell_type": "markdown",
   "metadata": {},
   "source": [
    "## Advanced Techniques:"
   ]
  },
  {
   "cell_type": "markdown",
   "metadata": {},
   "source": [
    "1. Common Trick: monotonic stack\n",
    "```\n",
    "Let's store the indices i of the processed values v0 = A[i] in a stack, and maintain the invariant that this is monotone decreasing. When we add a new index j, we pop all the smaller indices i < j from the stack, which all jump to j\n",
    "```\n",
    "\n",
    "    Code:\n",
    "```\n",
    "    def get_answer(A):\n",
    "        answers = [None] * len(A)\n",
    "        mono_stack = []\n",
    "        for index in A:\n",
    "            while mono_stack and mono_stack[-1] < index:\n",
    "                answers[mono_stack.pop()] = index\n",
    "            mono_stack.append(index)\n",
    "        return answers\n",
    "```\n",
    "2. Backward DP\n",
    "```\n",
    "    for i in range(answer_size-2,-1,-1):\n",
    "        if even_successor[i] is not None:\n",
    "            even[i] = odd[even_successor[i]]\n",
    "        if odd_successor[i] is not None:\n",
    "            odd[i] = even[odd_successor[i]]\n",
    "```\n",
    "3. Sort index by value without adding value\n",
    "```\n",
    "sorted(range(answer_size),key=lambda x: A[x])\n",
    "```"
   ]
  },
  {
   "cell_type": "code",
   "execution_count": null,
   "metadata": {},
   "outputs": [],
   "source": []
  }
 ],
 "metadata": {
  "kernelspec": {
   "display_name": "Python 3",
   "language": "python",
   "name": "python3"
  },
  "language_info": {
   "codemirror_mode": {
    "name": "ipython",
    "version": 3
   },
   "file_extension": ".py",
   "mimetype": "text/x-python",
   "name": "python",
   "nbconvert_exporter": "python",
   "pygments_lexer": "ipython3",
   "version": "3.7.0"
  }
 },
 "nbformat": 4,
 "nbformat_minor": 2
}
