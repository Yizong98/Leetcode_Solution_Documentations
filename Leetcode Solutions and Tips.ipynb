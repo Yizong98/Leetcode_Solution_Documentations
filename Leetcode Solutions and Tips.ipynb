{
 "cells": [
  {
   "cell_type": "code",
   "execution_count": 2,
   "metadata": {},
   "outputs": [],
   "source": [
    "#33. Search in Rotated Sorted Array Beat 98.16%\n",
    "# Version 1\n",
    "class Solution:\n",
    "    def search(self, nums, target) -> int:\n",
    "        if len(nums) == 0:\n",
    "            return -1\n",
    "        def get_rotate_p(nums,low,high,prev):\n",
    "            mid = (low + high) // 2\n",
    "            if nums[low] < nums[high] or low >= high:\n",
    "                return prev\n",
    "            if nums[mid] > nums[high]:\n",
    "                return get_rotate_p(nums,mid+1,high,mid+1)\n",
    "            return get_rotate_p(nums,low,mid-1,mid)\n",
    "        point = get_rotate_p(nums,0,len(nums)-1,0)\n",
    "        arr1 = nums + nums\n",
    "        res = bisect.bisect_left(arr1,target,point,point+len(nums)-1)\n",
    "        if arr1[res] == target:\n",
    "            if res >= len(nums):\n",
    "                return res - len(nums)\n",
    "            return res\n",
    "        return -1"
   ]
  },
  {
   "cell_type": "code",
   "execution_count": 4,
   "metadata": {},
   "outputs": [],
   "source": [
    "# Version 2 In Place 99.75%\n",
    "class Solution:\n",
    "    def search(self, nums, target) -> int:\n",
    "        if len(nums) == 0:\n",
    "            return -1\n",
    "        def search_solver(nums,low,high,target):\n",
    "            if low > high:\n",
    "                return -1\n",
    "            mid = (low + high) // 2\n",
    "            if nums[mid] == target:\n",
    "                return mid\n",
    "            if nums[mid] < target:\n",
    "                # When we need to go backward\n",
    "                if nums[low] > nums[mid] and target >= nums[low] :\n",
    "                    high = mid - 1\n",
    "                else:\n",
    "                    # When we just need to do a normal B Search\n",
    "                    low = mid + 1\n",
    "            else:\n",
    "                # When we need to go forward\n",
    "                if nums[low] <= nums[mid] and target < nums[low]:\n",
    "                    low = mid + 1\n",
    "                else:\n",
    "                    # When we just need to do a normal B Search\n",
    "                    high = mid - 1\n",
    "            return search_solver(nums,low,high,target)\n",
    "        return search_solver(nums,0,len(nums)-1,target)"
   ]
  },
  {
   "cell_type": "markdown",
   "metadata": {},
   "source": [
    "## Tips:\n",
    "1. Basically Modfiy Binary search with extra conditions.\n",
    "2. The key of inplace is to draw a picture and figure out the what the extra conditions are. In other scenarios, it is no different to do a normal binary search\n",
    "3. mid point can be the same as low, be ware!"
   ]
  },
  {
   "cell_type": "code",
   "execution_count": 6,
   "metadata": {},
   "outputs": [],
   "source": [
    "# 153. Find Minimum in Rotated Sorted Array Beat: 92.45%\n",
    "class Solution:\n",
    "    def findMin(self, nums) -> int:\n",
    "        def get_rotate_p(nums,low,high,prev):\n",
    "            mid = (low + high) // 2\n",
    "            if nums[low] < nums[high] or low >= high:\n",
    "                return prev\n",
    "            if nums[mid] > nums[high]:\n",
    "                return get_rotate_p(nums,mid+1,high,mid+1)\n",
    "            return get_rotate_p(nums,low,mid-1,mid)\n",
    "        point = get_rotate_p(nums,0,len(nums)-1,0)\n",
    "        return nums[point]"
   ]
  },
  {
   "cell_type": "code",
   "execution_count": 17,
   "metadata": {},
   "outputs": [],
   "source": [
    "    # Iterative Solution    \n",
    "    def find_rotate_index(left, right):\n",
    "            if nums[left] < nums[right]:\n",
    "                return 0\n",
    "            while left <= right:\n",
    "                pivot = (left + right) // 2\n",
    "                if nums[pivot] > nums[pivot + 1]:\n",
    "                    return pivot + 1\n",
    "                else:\n",
    "                    if nums[pivot] < nums[left]:\n",
    "                        right = pivot - 1\n",
    "                    else:\n",
    "                        left = pivot + 1"
   ]
  },
  {
   "cell_type": "code",
   "execution_count": 15,
   "metadata": {},
   "outputs": [],
   "source": [
    "# Version 3\n",
    "class Solution:\n",
    "    def findMin(self, nums) -> int:\n",
    "        if len(nums) == 1:\n",
    "            return nums[0]\n",
    "        if nums[0] < nums[len(nums)-1]:\n",
    "            return nums[0]\n",
    "        def get_rotate_p(nums,low,high):\n",
    "            mid = (low + high) // 2\n",
    "            if nums[mid] > nums[mid+1]:\n",
    "                return mid+1\n",
    "            if nums[low] > nums[mid]:\n",
    "                return get_rotate_p(nums,low,mid-1)\n",
    "            return get_rotate_p(nums,mid+1,high)\n",
    "        #point = get_rotate_p(nums,0,len(nums)-1)\n",
    "        point = get_rotate_p(nums,0,len(nums)-1)\n",
    "        return nums[point]"
   ]
  },
  {
   "cell_type": "markdown",
   "metadata": {},
   "source": [
    "## Tips:\n",
    "1. extra pointer prev helps.\n",
    "2. Another way is to check whether an element is bigger than the next one. Assuming that there is at least two elements.\n",
    "3. Thee choice of condition matters: ```nums[low] > nums[mid] != nums[high] > nums[mid]```\n",
    "4. Sometimes recursion brings unexpected error. It might be betta to switch to loop for Bin Search."
   ]
  },
  {
   "cell_type": "code",
   "execution_count": 20,
   "metadata": {},
   "outputs": [],
   "source": [
    "# 81. Search in Rotated Sorted Array II beats: 99.02\n",
    "class Solution:\n",
    "    def search(self, nums, target: int) -> bool:\n",
    "            if len(nums) == 0:\n",
    "                return False\n",
    "            def find_rotate_index(left, right):\n",
    "                if nums[left] < nums[right]:\n",
    "                    return 0\n",
    "                while left <= right:\n",
    "                    pivot = (left + right) // 2\n",
    "                    if pivot + 1 == len(nums):\n",
    "                        return 0\n",
    "                    if nums[pivot] > nums[pivot + 1]:\n",
    "                        return pivot + 1\n",
    "                    else:\n",
    "                        if nums[pivot] == nums[left] and nums[pivot] == nums[right]:\n",
    "                            left += 1\n",
    "                            right -=1\n",
    "                        elif nums[pivot] < nums[left]:\n",
    "                            right = pivot - 1\n",
    "                        else:\n",
    "                            left = pivot + 1\n",
    "                return 0\n",
    "            def bsearch(nums,low,high,target):\n",
    "                if low > high:\n",
    "                    return -1\n",
    "                pivot = (low + high) // 2\n",
    "                if nums[pivot] == target:\n",
    "                    return pivot\n",
    "                if nums[pivot] < target:\n",
    "                    return bsearch(nums,pivot+1,high,target)\n",
    "                return bsearch(nums,low,pivot-1,target)\n",
    "            point = find_rotate_index(0,len(nums)-1)\n",
    "            if point == 0:\n",
    "                return bsearch(nums,0,len(nums)-1,target) != -1\n",
    "            if target >= nums[0]:\n",
    "                return bsearch(nums,0,point,target) != -1\n",
    "            return bsearch(nums,point,len(nums)-1,target) != -1"
   ]
  },
  {
   "cell_type": "markdown",
   "metadata": {},
   "source": [
    "## Tips:\n",
    "1. Be very careful about follow-up, usualy more subtle difference would affect runtime.\n",
    "2. Put a considerate amount of time studying edge case in the beginning would make u code faster.\n",
    "3. Never underestimate a variation of a seen problem."
   ]
  },
  {
   "cell_type": "code",
   "execution_count": null,
   "metadata": {},
   "outputs": [],
   "source": []
  }
 ],
 "metadata": {
  "kernelspec": {
   "display_name": "Python 3",
   "language": "python",
   "name": "python3"
  },
  "language_info": {
   "codemirror_mode": {
    "name": "ipython",
    "version": 3
   },
   "file_extension": ".py",
   "mimetype": "text/x-python",
   "name": "python",
   "nbconvert_exporter": "python",
   "pygments_lexer": "ipython3",
   "version": "3.7.0"
  }
 },
 "nbformat": 4,
 "nbformat_minor": 2
}
