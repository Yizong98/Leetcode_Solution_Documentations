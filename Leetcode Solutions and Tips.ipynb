{
 "cells": [
  {
   "cell_type": "code",
   "execution_count": 2,
   "metadata": {},
   "outputs": [],
   "source": [
    "#33. Search in Rotated Sorted Array Beat 98.16%\n",
    "# Version 1\n",
    "class Solution:\n",
    "    def search(self, nums, target) -> int:\n",
    "        if len(nums) == 0:\n",
    "            return -1\n",
    "        def get_rotate_p(nums,low,high,prev):\n",
    "            mid = (low + high) // 2\n",
    "            if nums[low] < nums[high] or low >= high:\n",
    "                return prev\n",
    "            if nums[mid] > nums[high]:\n",
    "                return get_rotate_p(nums,mid+1,high,mid+1)\n",
    "            return get_rotate_p(nums,low,mid-1,mid)\n",
    "        point = get_rotate_p(nums,0,len(nums)-1,0)\n",
    "        arr1 = nums + nums\n",
    "        res = bisect.bisect_left(arr1,target,point,point+len(nums)-1)\n",
    "        if arr1[res] == target:\n",
    "            if res >= len(nums):\n",
    "                return res - len(nums)\n",
    "            return res\n",
    "        return -1"
   ]
  },
  {
   "cell_type": "code",
   "execution_count": 4,
   "metadata": {},
   "outputs": [],
   "source": [
    "# Version 2 In Place 99.75%\n",
    "class Solution:\n",
    "    def search(self, nums, target) -> int:\n",
    "        if len(nums) == 0:\n",
    "            return -1\n",
    "        def search_solver(nums,low,high,target):\n",
    "            if low > high:\n",
    "                return -1\n",
    "            mid = (low + high) // 2\n",
    "            if nums[mid] == target:\n",
    "                return mid\n",
    "            if nums[mid] < target:\n",
    "                # When we need to go backward\n",
    "                if nums[low] > nums[mid] and target >= nums[low] :\n",
    "                    high = mid - 1\n",
    "                else:\n",
    "                    # When we just need to do a normal B Search\n",
    "                    low = mid + 1\n",
    "            else:\n",
    "                # When we need to go forward\n",
    "                if nums[low] <= nums[mid] and target < nums[low]:\n",
    "                    low = mid + 1\n",
    "                else:\n",
    "                    # When we just need to do a normal B Search\n",
    "                    high = mid - 1\n",
    "            return search_solver(nums,low,high,target)\n",
    "        return search_solver(nums,0,len(nums)-1,target)"
   ]
  },
  {
   "cell_type": "markdown",
   "metadata": {},
   "source": [
    "## Tips:\n",
    "1. Basically Modfiy Binary search with extra conditions.\n",
    "2. The key of inplace is to draw a picture and figure out the what the extra conditions are. In other scenarios, it is no different to do a normal binary search"
   ]
  },
  {
   "cell_type": "code",
   "execution_count": null,
   "metadata": {},
   "outputs": [],
   "source": []
  }
 ],
 "metadata": {
  "kernelspec": {
   "display_name": "Python 3",
   "language": "python",
   "name": "python3"
  },
  "language_info": {
   "codemirror_mode": {
    "name": "ipython",
    "version": 3
   },
   "file_extension": ".py",
   "mimetype": "text/x-python",
   "name": "python",
   "nbconvert_exporter": "python",
   "pygments_lexer": "ipython3",
   "version": "3.7.0"
  }
 },
 "nbformat": 4,
 "nbformat_minor": 2
}
